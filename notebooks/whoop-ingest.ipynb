{
 "cells": [
  {
   "cell_type": "markdown",
   "id": "6d47db8e",
   "metadata": {},
   "source": [
    "# WHOOP Data Ingest\n",
    "\n",
    "Ensure we can reliably:\n",
    "- Authorize using WHOOP (and figure out what information we need from users)\n",
    "- Collect the proper metricts\n",
    "- Format the metrics correctly for our prompt\n",
    "\n",
    "This notebooks epxlores how we can handle the above, and will condense all the methods/code here into a single WHOOP Resource for reusability."
   ]
  },
  {
   "cell_type": "code",
   "execution_count": 1,
   "id": "32f8598e",
   "metadata": {},
   "outputs": [],
   "source": [
    "import sys \n",
    "import subprocess\n",
    "import logging \n",
    "\n",
    "# get root of current repo and add to our path\n",
    "root_dir = subprocess.check_output([\"git\", \"rev-parse\", \"--show-toplevel\"], stderr=subprocess.DEVNULL).decode(\"utf-8\").strip()\n",
    "\n",
    "sys.path.append(root_dir)\n",
    "\n",
    "# logging config\n",
    "logging.basicConfig(\n",
    "    level=logging.INFO,  # Show DEBUG and above\n",
    "    format=\"%(asctime)s [%(levelname)s] %(name)s: %(message)s\",\n",
    "    handlers=[logging.StreamHandler(sys.stdout)]\n",
    ")\n",
    "\n",
    "logger = logging.getLogger(__name__)"
   ]
  },
  {
   "cell_type": "markdown",
   "id": "08644871",
   "metadata": {},
   "source": [
    "## Authorization \n",
    "\n",
    "The WHOOP API uses OAuth 2.0 for user-client authentication. \n",
    "\n",
    "I'm still working out how OAuth works, but from where I stand now, it seems like we'd want to:\n",
    "- Use our Client ID and Client Secret to request an access token which allows us to view data. \n",
    "- Additionally, use that ID, Secret, and Access Token to request a refresh token. This will? enable use to have users authenticate at the redirect once, then effectively \"save\" that response and use the refresh token to gain subsequent access."
   ]
  },
  {
   "cell_type": "code",
   "execution_count": 14,
   "id": "169ab7b3",
   "metadata": {},
   "outputs": [],
   "source": [
    "import json \n",
    "\n",
    "def load_config(filepath: str = \"config.json\") -> dict:\n",
    "    try:\n",
    "        with open(filepath, \"r\") as f:\n",
    "            config = json.load(f)\n",
    "        logger.info(f\"Configuration loaded from {filepath}\")\n",
    "        return config\n",
    "    except FileNotFoundError:\n",
    "        logger.error(f\"Configuration file {filepath} not found.\")\n",
    "        return {}\n",
    "    except json.JSONDecodeError as e:\n",
    "        logger.error(f\"Error decoding JSON from {filepath}: {e}\")\n",
    "        return {}\n",
    "    except Exception as e:\n",
    "        logger.error(f\"Unexpected error loading config: {e}\")\n",
    "        return {}"
   ]
  },
  {
   "cell_type": "code",
   "execution_count": 39,
   "id": "eaa4c40d",
   "metadata": {},
   "outputs": [
    {
     "name": "stdout",
     "output_type": "stream",
     "text": [
      "2025-09-19 11:43:05,659 [INFO] __main__: Configuration loaded from /home/srmarshall/code/meathead-mode/config.json\n"
     ]
    },
    {
     "name": "stderr",
     "output_type": "stream",
     "text": [
      "127.0.0.1 - - [19/Sep/2025 11:43:11] \"GET /callback?code=NCM1zJnotzaW4Jgp5SuRZlgXxiB5Tfo8eI9sAf7xqFI.nE4BJDw_g4x6q7IxpFYdJdUoIYTqrcgti6ag2L70dWk&scope=read%3Arecovery%20read%3Acycles%20read%3Aworkout%20read%3Asleep%20read%3Aprofile%20offline&state=v_APZIvbIAyuTc5qz1xwdw HTTP/1.1\" 200 -\n"
     ]
    }
   ],
   "source": [
    "import socketserver\n",
    "import secrets\n",
    "from urllib.parse import urlencode\n",
    "import webbrowser\n",
    "\n",
    "from utils.auth import OAuthCallbackHandler\n",
    "\n",
    "# fetch a callback code\n",
    "with socketserver.TCPServer((\"\", 8080), OAuthCallbackHandler) as httpd:\n",
    "    # load our base config file \n",
    "    params = load_config(f\"{root_dir}/config.json\")\n",
    "\n",
    "    # remove client secret from config, we dont need it\n",
    "    params.pop(\"client_secret\")\n",
    "\n",
    "    # add scope, state, and response type to our params \n",
    "    params[\"scope\"] = \" \".join([\"read:recovery\", \"read:cycles\", \"read:workout\", \"read:sleep\", \"read:profile\", \"offline\"])\n",
    "    params[\"state\"] = secrets.token_urlsafe(16)\n",
    "    params[\"response_type\"] = \"code\"\n",
    "\n",
    "    # build auth url \n",
    "    url = f\"https://api.prod.whoop.com/oauth/oauth2/auth?{urlencode(params)}\"\n",
    "\n",
    "    # redirect for auth \n",
    "    webbrowser.open(url)\n",
    "    httpd.handle_request()\n",
    "\n",
    "    callback_code = OAuthCallbackHandler.callback_code"
   ]
  },
  {
   "cell_type": "code",
   "execution_count": 40,
   "id": "5df85d12",
   "metadata": {},
   "outputs": [
    {
     "name": "stdout",
     "output_type": "stream",
     "text": [
      "2025-09-19 11:43:13,233 [INFO] __main__: Configuration loaded from /home/srmarshall/code/meathead-mode/config.json\n",
      "2025-09-19 11:43:13,234 [DEBUG] urllib3.connectionpool: Starting new HTTPS connection (1): api.prod.whoop.com:443\n",
      "2025-09-19 11:43:13,612 [DEBUG] urllib3.connectionpool: https://api.prod.whoop.com:443 \"POST /oauth/oauth2/token HTTP/1.1\" 200 None\n"
     ]
    }
   ],
   "source": [
    "import requests\n",
    "import json \n",
    "\n",
    "# load our config items from our json file \n",
    "params = load_config(f\"{root_dir}/config.json\")\n",
    "\n",
    "# add some additional params to the base config \n",
    "params[\"grant_type\"] = \"authorization_code\"\n",
    "params[\"code\"] = callback_code\n",
    "\n",
    "res = requests.post(\n",
    "    url=\"https://api.prod.whoop.com/oauth/oauth2/token\",\n",
    "    data=params\n",
    ")\n",
    "\n",
    "# update config file\n",
    "params.pop(\"grant_type\")\n",
    "params.pop(\"code\")\n",
    "\n",
    "params[\"access_token\"] = res.json().get(\"access_token\")\n",
    "params[\"refresh_token\"] = res.json().get(\"refresh_token\")\n",
    "\n",
    "with open(f\"{root_dir}/config.json\", \"w\") as f:\n",
    "    json.dump(params, f, indent=4)"
   ]
  },
  {
   "cell_type": "code",
   "execution_count": null,
   "id": "73a13662",
   "metadata": {},
   "outputs": [
    {
     "name": "stdout",
     "output_type": "stream",
     "text": [
      "2025-09-19 11:44:55,237 [INFO] __main__: Configuration loaded from /home/srmarshall/code/meathead-mode/config.json\n",
      "2025-09-19 11:44:55,239 [DEBUG] urllib3.connectionpool: Starting new HTTPS connection (1): api.prod.whoop.com:443\n",
      "2025-09-19 11:44:55,555 [DEBUG] urllib3.connectionpool: https://api.prod.whoop.com:443 \"POST /oauth/oauth2/token HTTP/1.1\" 200 None\n"
     ]
    }
   ],
   "source": [
    "def refresh_tokens(config_filepath: str = \"config.json\") -> None:\n",
    "\n",
    "    params = load_config(config_filepath)\n",
    "\n",
    "    # set request params\n",
    "    refresh_params = {\n",
    "        \"grant_type\": \"refresh_token\", \n",
    "        \"client_id\": params.get(\"client_id\"),\n",
    "        \"client_secret\": params.get(\"client_secret\"),\n",
    "        \"scope\": \"offline\", \n",
    "        \"refresh_token\": params.get(\"refresh_token\")\n",
    "    }\n",
    "\n",
    "    # request new tokens\n",
    "    res = requests.post(\n",
    "        url=\"https://api.prod.whoop.com/oauth/oauth2/token\",\n",
    "        data=refresh_params\n",
    "    )\n",
    "\n",
    "    params[\"access_token\"] = res.json().get(\"access_token\")\n",
    "    params[\"refresh_token\"] = res.json().get(\"refresh_token\")\n",
    "\n",
    "    with open(f\"{root_dir}/config.json\", \"w\") as f:\n",
    "        json.dump(params, f, indent=4)"
   ]
  },
  {
   "cell_type": "code",
   "execution_count": 2,
   "id": "1f4f6365",
   "metadata": {},
   "outputs": [
    {
     "name": "stdout",
     "output_type": "stream",
     "text": [
      "2025-09-19 11:11:07,700 [DEBUG] utils.resources.whoop: Configuration loaded from /home/srmarshall/code/meathead-mode/config.json\n",
      "2025-09-19 11:11:07,700 [DEBUG] utils.resources.whoop: Loaded config: {'client_id': 'cb5f51d2-464d-409b-a5a3-35bd5e6718e6', 'client_secret': '949903e33e331e261e9880613122cad90d993641bd0702d974053d7adf79d24f', 'redirect_uri': 'http://localhost:8080/callback', 'access_token': 'CEeQKPj_Ya5XL6P4ytrsqyWh1SxCTpdokXoL8EDzjYg.ISy8XAkfdqBjFsrqGQOXvik-LdRDHdI7fBYmPNqa0OI', 'refresh_token': 'eCh0Gv0z3oQ3e_VvErf4M1SVon6LVCwMOmEcbkdFleU.NCmP9ikbk1tHiFeAqPqsfiL0IOLRJ1t06KcDHFefY-Y'}\n",
      "2025-09-19 11:11:07,701 [INFO] utils.resources.whoop: All required configuration keys are present.\n"
     ]
    }
   ],
   "source": [
    "from utils.resources.whoop import Whoop\n",
    "\n",
    "Whoop.check_config(config_filepath=f\"{root_dir}/config.json\")"
   ]
  },
  {
   "cell_type": "code",
   "execution_count": 36,
   "id": "43ef7a22",
   "metadata": {},
   "outputs": [
    {
     "name": "stdout",
     "output_type": "stream",
     "text": [
      "2025-09-19 11:42:22,996 [INFO] __main__: Configuration loaded from /home/srmarshall/code/meathead-mode/config.json\n",
      "2025-09-19 11:42:22,997 [DEBUG] urllib3.connectionpool: Starting new HTTPS connection (1): api.prod.whoop.com:443\n",
      "2025-09-19 11:42:23,447 [DEBUG] urllib3.connectionpool: https://api.prod.whoop.com:443 \"POST /oauth/oauth2/token HTTP/1.1\" 400 429\n",
      "2025-09-19 11:42:23,448 [INFO] __main__: {'client_id': 'cb5f51d2-464d-409b-a5a3-35bd5e6718e6', 'client_secret': '949903e33e331e261e9880613122cad90d993641bd0702d974053d7adf79d24f', 'redirect_uri': 'http://localhost:8080/callback', 'access_token': None, 'refresh_token': None}\n"
     ]
    }
   ],
   "source": [
    "refresh_token(config_filepath=f\"{root_dir}/config.json\")"
   ]
  },
  {
   "cell_type": "markdown",
   "id": "31449dab",
   "metadata": {},
   "source": [
    "## Metrics"
   ]
  },
  {
   "cell_type": "code",
   "execution_count": null,
   "id": "1ccbf39b",
   "metadata": {},
   "outputs": [],
   "source": [
    "import requests \n",
    "\n",
    "def get_records_by_date(records: list[dict], date: str = None) -> list:\n",
    "    \"\"\"\n",
    "    Get all workouts from a specific day in YYYY-MM-DD format. If no date is provided, the default \n",
    "    is the most recent day with a workout.\n",
    "    \"\"\"\n",
    "    if not date:\n",
    "        date = records[0]['start'].split(\"T\")[0] \n",
    "\n",
    "    records_by_date = \n",
    "\n",
    "    ##TODO: handle case where date is not in data -- fetch more records?\n",
    "\n",
    "    return records_by_date"
   ]
  },
  {
   "cell_type": "code",
   "execution_count": 7,
   "id": "c50ff3ad",
   "metadata": {},
   "outputs": [],
   "source": [
    "date = \"2025-09-18\"\n",
    "context = {}\n",
    "\n",
    "for record_type in [\"workout\", \"sleep\", \"profile\"]:\n",
    "    records = Whoop.get_records(record_type, f\"{root_dir}/config.json\")\n",
    "\n",
    "    if record_type == \"profile\":\n",
    "        context[record_type] = records\n",
    "        continue\n",
    "\n",
    "    context[record_type] = get_records_by_date(records, date)"
   ]
  },
  {
   "cell_type": "code",
   "execution_count": 8,
   "id": "4edd877c",
   "metadata": {},
   "outputs": [
    {
     "data": {
      "text/plain": [
       "{'workout': [{'id': '8141d2ad-21ce-4345-bd7d-b7841f9b5011',\n",
       "   'v1_id': 2057186215,\n",
       "   'user_id': 28846686,\n",
       "   'created_at': '2025-09-18T18:50:45.796Z',\n",
       "   'updated_at': '2025-09-18T18:51:33.514Z',\n",
       "   'start': '2025-09-18T18:04:30.481Z',\n",
       "   'end': '2025-09-18T18:48:59.054Z',\n",
       "   'timezone_offset': '-04:00',\n",
       "   'sport_name': 'cycling',\n",
       "   'score_state': 'SCORED',\n",
       "   'score': {'strain': 8.659389,\n",
       "    'average_heart_rate': 124,\n",
       "    'max_heart_rate': 151,\n",
       "    'kilojoule': 962.17175,\n",
       "    'percent_recorded': 1.0,\n",
       "    'distance_meter': None,\n",
       "    'altitude_gain_meter': None,\n",
       "    'altitude_change_meter': None,\n",
       "    'zone_durations': {'zone_zero_milli': 188415,\n",
       "     'zone_one_milli': 1933226,\n",
       "     'zone_two_milli': 530629,\n",
       "     'zone_three_milli': 16342,\n",
       "     'zone_four_milli': 0,\n",
       "     'zone_five_milli': 0}},\n",
       "   'sport_id': 1},\n",
       "  {'id': 'ecf496e9-2856-4d12-aaab-314f80df4258',\n",
       "   'v1_id': 2056223864,\n",
       "   'user_id': 28846686,\n",
       "   'created_at': '2025-09-18T11:02:57.082Z',\n",
       "   'updated_at': '2025-09-18T11:03:22.248Z',\n",
       "   'start': '2025-09-18T10:06:00.098Z',\n",
       "   'end': '2025-09-18T11:01:01.227Z',\n",
       "   'timezone_offset': '-04:00',\n",
       "   'sport_name': 'sprint-training',\n",
       "   'score_state': 'SCORED',\n",
       "   'score': {'strain': 12.9380865,\n",
       "    'average_heart_rate': 132,\n",
       "    'max_heart_rate': 178,\n",
       "    'kilojoule': 1431.8542,\n",
       "    'percent_recorded': 1.0,\n",
       "    'distance_meter': None,\n",
       "    'altitude_gain_meter': None,\n",
       "    'altitude_change_meter': None,\n",
       "    'zone_durations': {'zone_zero_milli': 307616,\n",
       "     'zone_one_milli': 1245893,\n",
       "     'zone_two_milli': 472964,\n",
       "     'zone_three_milli': 581590,\n",
       "     'zone_four_milli': 645038,\n",
       "     'zone_five_milli': 48067}},\n",
       "   'sport_id': None}],\n",
       " 'sleep': [{'id': 'dac96377-08e8-4b37-9c6d-e3fe61efb74a',\n",
       "   'cycle_id': 1067744348,\n",
       "   'v1_id': 2055956998,\n",
       "   'user_id': 28846686,\n",
       "   'created_at': '2025-09-18T09:17:21.616Z',\n",
       "   'updated_at': '2025-09-18T09:17:21.616Z',\n",
       "   'start': '2025-09-18T03:00:25.352Z',\n",
       "   'end': '2025-09-18T09:15:43.095Z',\n",
       "   'timezone_offset': '-04:00',\n",
       "   'nap': False,\n",
       "   'score_state': 'SCORED',\n",
       "   'score': {'stage_summary': {'total_in_bed_time_milli': 22517743,\n",
       "     'total_awake_time_milli': 600817,\n",
       "     'total_no_data_time_milli': 0,\n",
       "     'total_light_sleep_time_milli': 10562802,\n",
       "     'total_slow_wave_sleep_time_milli': 5857251,\n",
       "     'total_rem_sleep_time_milli': 5496873,\n",
       "     'sleep_cycle_count': 4,\n",
       "     'disturbance_count': 6},\n",
       "    'sleep_needed': {'baseline_milli': 27084881,\n",
       "     'need_from_sleep_debt_milli': 307807,\n",
       "     'need_from_recent_strain_milli': 288336,\n",
       "     'need_from_recent_nap_milli': 0},\n",
       "    'respiratory_rate': 16.464844,\n",
       "    'sleep_performance_percentage': 82.0,\n",
       "    'sleep_consistency_percentage': 74.0,\n",
       "    'sleep_efficiency_percentage': 97.3318}}],\n",
       " 'profile': [{'user_id': 28846686,\n",
       "   'email': 's67502917@gmail.com',\n",
       "   'first_name': 'Sophie',\n",
       "   'last_name': 'Marshall'}]}"
      ]
     },
     "execution_count": 8,
     "metadata": {},
     "output_type": "execute_result"
    }
   ],
   "source": [
    "context"
   ]
  }
 ],
 "metadata": {
  "kernelspec": {
   "display_name": "predictive-playlists",
   "language": "python",
   "name": "python3"
  },
  "language_info": {
   "codemirror_mode": {
    "name": "ipython",
    "version": 3
   },
   "file_extension": ".py",
   "mimetype": "text/x-python",
   "name": "python",
   "nbconvert_exporter": "python",
   "pygments_lexer": "ipython3",
   "version": "3.12.3"
  }
 },
 "nbformat": 4,
 "nbformat_minor": 5
}
